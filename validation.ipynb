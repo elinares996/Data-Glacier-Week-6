{
 "cells": [
  {
   "cell_type": "code",
   "execution_count": 1,
   "id": "4a89c716",
   "metadata": {},
   "outputs": [
    {
     "name": "stdout",
     "output_type": "stream",
     "text": [
      "Overwriting testutility.py\n"
     ]
    }
   ],
   "source": [
    "%%writefile testutility.py\n",
    "import logging\n",
    "import os\n",
    "import subprocess\n",
    "import yaml\n",
    "import pandas as pd\n",
    "import datetime \n",
    "import gc\n",
    "import re\n",
    "\n",
    "\n",
    "################\n",
    "# File Reading #\n",
    "################\n",
    "\n",
    "def read_config_file(filepath):\n",
    "    with open(filepath, 'r') as stream:\n",
    "        try:\n",
    "            return yaml.safe_load(stream)\n",
    "        except yaml.YAMLError as exc:\n",
    "            logging.error(exc)\n",
    "\n",
    "\n",
    "def replacer(string, char):\n",
    "    pattern = char + '{2,}'\n",
    "    string = re.sub(pattern, char, string) \n",
    "    return string\n",
    "\n",
    "def col_header_val(df,table_config):\n",
    "    '''\n",
    "    replace whitespaces in the column\n",
    "    and standardized column names\n",
    "    '''\n",
    "    df.columns = df.columns.str.lower()\n",
    "    df.columns = df.columns.str.replace('[^\\w]','_',regex=True)\n",
    "    df.columns = list(map(lambda x: x.strip('_'), list(df.columns)))\n",
    "    df.columns = list(map(lambda x: replacer(x,'_'), list(df.columns)))\n",
    "    expected_col = list(map(lambda x: x.lower(),  table_config['columns']))\n",
    "    expected_col.sort()\n",
    "    df.columns =list(map(lambda x: x.lower(), list(df.columns)))\n",
    "    df = df.reindex(sorted(df.columns), axis=1)\n",
    "    if len(df.columns) == len(expected_col) and list(expected_col)  == list(df.columns):\n",
    "        print(\"column name and column length validation passed\")\n",
    "        return 1\n",
    "    else:\n",
    "        print(\"column name and column length validation failed\")\n",
    "        mismatched_columns_file = list(set(df.columns).difference(expected_col))\n",
    "        print(\"Following File columns are not in the YAML file\",mismatched_columns_file)\n",
    "        missing_YAML_file = list(set(expected_col).difference(df.columns))\n",
    "        print(\"Following YAML columns are not in the file uploaded\",missing_YAML_file)\n",
    "        logging.info(f'df columns: {df.columns}')\n",
    "        logging.info(f'expected columns: {expected_col}')\n",
    "        return 0"
   ]
  },
  {
   "cell_type": "code",
   "execution_count": 2,
   "id": "7644693e",
   "metadata": {},
   "outputs": [
    {
     "name": "stdout",
     "output_type": "stream",
     "text": [
      "Overwriting file.yaml\n"
     ]
    }
   ],
   "source": [
    "%%writefile file.yaml\n",
    "file_type: csv\n",
    "dataset_name: testfile\n",
    "file_name: data\n",
    "table_name: edsurv\n",
    "inbound_delimiter: \",\"\n",
    "outbound_delimiter: \"|\"\n",
    "skip_leading_rows: 1\n",
    "columns: \n",
    "    - number\n",
    "    - id \n",
    "    - cell_id\n",
    "    - source\n",
    "    - ancestor_id\n",
    "    - pct_rank"
   ]
  },
  {
   "cell_type": "code",
   "execution_count": 3,
   "id": "e520a1ec",
   "metadata": {},
   "outputs": [
    {
     "name": "stderr",
     "output_type": "stream",
     "text": [
      "C:\\Users\\linar\\AppData\\Local\\Temp\\ipykernel_21088\\1345184591.py:2: DtypeWarning: Columns (0) have mixed types. Specify dtype option on import or set low_memory=False.\n",
      "  pd.read_csv(\"data.csv\")\n"
     ]
    },
    {
     "data": {
      "text/html": [
       "<div>\n",
       "<style scoped>\n",
       "    .dataframe tbody tr th:only-of-type {\n",
       "        vertical-align: middle;\n",
       "    }\n",
       "\n",
       "    .dataframe tbody tr th {\n",
       "        vertical-align: top;\n",
       "    }\n",
       "\n",
       "    .dataframe thead th {\n",
       "        text-align: right;\n",
       "    }\n",
       "</style>\n",
       "<table border=\"1\" class=\"dataframe\">\n",
       "  <thead>\n",
       "    <tr style=\"text-align: right;\">\n",
       "      <th></th>\n",
       "      <th>Unnamed: 0</th>\n",
       "      <th>id</th>\n",
       "      <th>cell_id</th>\n",
       "      <th>source</th>\n",
       "      <th>ancestor_id</th>\n",
       "      <th>pct_rank</th>\n",
       "    </tr>\n",
       "  </thead>\n",
       "  <tbody>\n",
       "    <tr>\n",
       "      <th>0</th>\n",
       "      <td>1</td>\n",
       "      <td>0944b58318b789</td>\n",
       "      <td>fced0b7a</td>\n",
       "      <td># Spectrogram-based CNN for the Tensorflow Spe...</td>\n",
       "      <td>0212b702</td>\n",
       "      <td>0.000000</td>\n",
       "    </tr>\n",
       "    <tr>\n",
       "      <th>1</th>\n",
       "      <td>3</td>\n",
       "      <td>59958672e3bf59</td>\n",
       "      <td>9b68df7e</td>\n",
       "      <td># A simple explanation and implementation of D...</td>\n",
       "      <td>8f0f9cda</td>\n",
       "      <td>0.000000</td>\n",
       "    </tr>\n",
       "    <tr>\n",
       "      <th>2</th>\n",
       "      <td>4</td>\n",
       "      <td>b22e24942614c9</td>\n",
       "      <td>fa089df9</td>\n",
       "      <td>Name: Aviral Jain | \\nRoll No: 18AG3AI08 | \\nB...</td>\n",
       "      <td>52b2390a</td>\n",
       "      <td>0.000000</td>\n",
       "    </tr>\n",
       "    <tr>\n",
       "      <th>3</th>\n",
       "      <td>5</td>\n",
       "      <td>59959edc72f7c1</td>\n",
       "      <td>815f8d1f</td>\n",
       "      <td>&lt;img src=\"https://drive.google.com/uc?export=d...</td>\n",
       "      <td>2ba4272a</td>\n",
       "      <td>0.000000</td>\n",
       "    </tr>\n",
       "    <tr>\n",
       "      <th>4</th>\n",
       "      <td>7</td>\n",
       "      <td>599548cea78ff7</td>\n",
       "      <td>7b084d0a</td>\n",
       "      <td># DATA UNDESRTANDING\\n\\n#### Churn veri seti i...</td>\n",
       "      <td>ce055a99</td>\n",
       "      <td>0.000000</td>\n",
       "    </tr>\n",
       "    <tr>\n",
       "      <th>...</th>\n",
       "      <td>...</td>\n",
       "      <td>...</td>\n",
       "      <td>...</td>\n",
       "      <td>...</td>\n",
       "      <td>...</td>\n",
       "      <td>...</td>\n",
       "    </tr>\n",
       "    <tr>\n",
       "      <th>2166063</th>\n",
       "      <td>6370638</td>\n",
       "      <td>d9cd4b84d376a6</td>\n",
       "      <td>a27c4c8c</td>\n",
       "      <td>&lt;span class=text markdown=\"1\"&gt;\\n\\n1. &lt;a id='ci...</td>\n",
       "      <td>657eac68</td>\n",
       "      <td>0.998703</td>\n",
       "    </tr>\n",
       "    <tr>\n",
       "      <th>2166064</th>\n",
       "      <td>6370640</td>\n",
       "      <td>0a0ed7e3e80ff4</td>\n",
       "      <td>8f223df6</td>\n",
       "      <td>Hence the final savings made with our model is...</td>\n",
       "      <td>4a20c2b4</td>\n",
       "      <td>0.998726</td>\n",
       "    </tr>\n",
       "    <tr>\n",
       "      <th>2166065</th>\n",
       "      <td>6370642</td>\n",
       "      <td>c8e304fd3f7790</td>\n",
       "      <td>1d8fc9ec</td>\n",
       "      <td>## Final models were chosen by Kaggle automati...</td>\n",
       "      <td>b703eac8</td>\n",
       "      <td>0.998853</td>\n",
       "    </tr>\n",
       "    <tr>\n",
       "      <th>2166066</th>\n",
       "      <td>6370643</td>\n",
       "      <td>3e406a0098a034</td>\n",
       "      <td>dedec350</td>\n",
       "      <td># End</td>\n",
       "      <td>3571ebc0</td>\n",
       "      <td>0.998879</td>\n",
       "    </tr>\n",
       "    <tr>\n",
       "      <th>2166067</th>\n",
       "      <td>6370645</td>\n",
       "      <td>ba14b6fba142e9</td>\n",
       "      <td>840946cd</td>\n",
       "      <td>**Conclusion: Client categories to be targeted...</td>\n",
       "      <td>ce3fb7a3</td>\n",
       "      <td>0.999005</td>\n",
       "    </tr>\n",
       "  </tbody>\n",
       "</table>\n",
       "<p>2166068 rows × 6 columns</p>\n",
       "</div>"
      ],
      "text/plain": [
       "        Unnamed: 0              id   cell_id  \\\n",
       "0                1  0944b58318b789  fced0b7a   \n",
       "1                3  59958672e3bf59  9b68df7e   \n",
       "2                4  b22e24942614c9  fa089df9   \n",
       "3                5  59959edc72f7c1  815f8d1f   \n",
       "4                7  599548cea78ff7  7b084d0a   \n",
       "...            ...             ...       ...   \n",
       "2166063    6370638  d9cd4b84d376a6  a27c4c8c   \n",
       "2166064    6370640  0a0ed7e3e80ff4  8f223df6   \n",
       "2166065    6370642  c8e304fd3f7790  1d8fc9ec   \n",
       "2166066    6370643  3e406a0098a034  dedec350   \n",
       "2166067    6370645  ba14b6fba142e9  840946cd   \n",
       "\n",
       "                                                    source ancestor_id  \\\n",
       "0        # Spectrogram-based CNN for the Tensorflow Spe...    0212b702   \n",
       "1        # A simple explanation and implementation of D...    8f0f9cda   \n",
       "2        Name: Aviral Jain | \\nRoll No: 18AG3AI08 | \\nB...    52b2390a   \n",
       "3        <img src=\"https://drive.google.com/uc?export=d...    2ba4272a   \n",
       "4        # DATA UNDESRTANDING\\n\\n#### Churn veri seti i...    ce055a99   \n",
       "...                                                    ...         ...   \n",
       "2166063  <span class=text markdown=\"1\">\\n\\n1. <a id='ci...    657eac68   \n",
       "2166064  Hence the final savings made with our model is...    4a20c2b4   \n",
       "2166065  ## Final models were chosen by Kaggle automati...    b703eac8   \n",
       "2166066                                              # End    3571ebc0   \n",
       "2166067  **Conclusion: Client categories to be targeted...    ce3fb7a3   \n",
       "\n",
       "         pct_rank  \n",
       "0        0.000000  \n",
       "1        0.000000  \n",
       "2        0.000000  \n",
       "3        0.000000  \n",
       "4        0.000000  \n",
       "...           ...  \n",
       "2166063  0.998703  \n",
       "2166064  0.998726  \n",
       "2166065  0.998853  \n",
       "2166066  0.998879  \n",
       "2166067  0.999005  \n",
       "\n",
       "[2166068 rows x 6 columns]"
      ]
     },
     "execution_count": 3,
     "metadata": {},
     "output_type": "execute_result"
    }
   ],
   "source": [
    "import pandas as pd\n",
    "pd.read_csv(\"data.csv\")"
   ]
  },
  {
   "cell_type": "code",
   "execution_count": 4,
   "id": "f6555387",
   "metadata": {},
   "outputs": [],
   "source": [
    "import testutility as util\n",
    "config_data = util.read_config_file(\"file.yaml\")"
   ]
  },
  {
   "cell_type": "code",
   "execution_count": 5,
   "id": "fcf99a30",
   "metadata": {},
   "outputs": [
    {
     "data": {
      "text/plain": [
       "','"
      ]
     },
     "execution_count": 5,
     "metadata": {},
     "output_type": "execute_result"
    }
   ],
   "source": [
    "config_data['inbound_delimiter']"
   ]
  },
  {
   "cell_type": "code",
   "execution_count": 6,
   "id": "01c01ca6",
   "metadata": {},
   "outputs": [
    {
     "data": {
      "text/plain": [
       "{'file_type': 'csv',\n",
       " 'dataset_name': 'testfile',\n",
       " 'file_name': 'data',\n",
       " 'table_name': 'edsurv',\n",
       " 'inbound_delimiter': ',',\n",
       " 'outbound_delimiter': '|',\n",
       " 'skip_leading_rows': 1,\n",
       " 'columns': ['number', 'id', 'cell_id', 'source', 'ancestor_id', 'pct_rank']}"
      ]
     },
     "execution_count": 6,
     "metadata": {},
     "output_type": "execute_result"
    }
   ],
   "source": [
    "config_data"
   ]
  },
  {
   "cell_type": "code",
   "execution_count": 7,
   "id": "571ffe1d",
   "metadata": {},
   "outputs": [
    {
     "name": "stderr",
     "output_type": "stream",
     "text": [
      "C:\\Users\\linar\\AppData\\Local\\Temp\\ipykernel_21088\\270781102.py:5: FutureWarning: In a future version of pandas all arguments of read_csv except for the argument 'filepath_or_buffer' will be keyword-only.\n",
      "  df = pd.read_csv(source_file,config_data['inbound_delimiter'])\n",
      "C:\\Users\\linar\\AppData\\Local\\Temp\\ipykernel_21088\\270781102.py:5: DtypeWarning: Columns (0) have mixed types. Specify dtype option on import or set low_memory=False.\n",
      "  df = pd.read_csv(source_file,config_data['inbound_delimiter'])\n"
     ]
    },
    {
     "data": {
      "text/html": [
       "<div>\n",
       "<style scoped>\n",
       "    .dataframe tbody tr th:only-of-type {\n",
       "        vertical-align: middle;\n",
       "    }\n",
       "\n",
       "    .dataframe tbody tr th {\n",
       "        vertical-align: top;\n",
       "    }\n",
       "\n",
       "    .dataframe thead th {\n",
       "        text-align: right;\n",
       "    }\n",
       "</style>\n",
       "<table border=\"1\" class=\"dataframe\">\n",
       "  <thead>\n",
       "    <tr style=\"text-align: right;\">\n",
       "      <th></th>\n",
       "      <th>Unnamed: 0</th>\n",
       "      <th>id</th>\n",
       "      <th>cell_id</th>\n",
       "      <th>source</th>\n",
       "      <th>ancestor_id</th>\n",
       "      <th>pct_rank</th>\n",
       "    </tr>\n",
       "  </thead>\n",
       "  <tbody>\n",
       "    <tr>\n",
       "      <th>0</th>\n",
       "      <td>1</td>\n",
       "      <td>0944b58318b789</td>\n",
       "      <td>fced0b7a</td>\n",
       "      <td># Spectrogram-based CNN for the Tensorflow Spe...</td>\n",
       "      <td>0212b702</td>\n",
       "      <td>0.0</td>\n",
       "    </tr>\n",
       "    <tr>\n",
       "      <th>1</th>\n",
       "      <td>3</td>\n",
       "      <td>59958672e3bf59</td>\n",
       "      <td>9b68df7e</td>\n",
       "      <td># A simple explanation and implementation of D...</td>\n",
       "      <td>8f0f9cda</td>\n",
       "      <td>0.0</td>\n",
       "    </tr>\n",
       "    <tr>\n",
       "      <th>2</th>\n",
       "      <td>4</td>\n",
       "      <td>b22e24942614c9</td>\n",
       "      <td>fa089df9</td>\n",
       "      <td>Name: Aviral Jain | \\nRoll No: 18AG3AI08 | \\nB...</td>\n",
       "      <td>52b2390a</td>\n",
       "      <td>0.0</td>\n",
       "    </tr>\n",
       "    <tr>\n",
       "      <th>3</th>\n",
       "      <td>5</td>\n",
       "      <td>59959edc72f7c1</td>\n",
       "      <td>815f8d1f</td>\n",
       "      <td>&lt;img src=\"https://drive.google.com/uc?export=d...</td>\n",
       "      <td>2ba4272a</td>\n",
       "      <td>0.0</td>\n",
       "    </tr>\n",
       "    <tr>\n",
       "      <th>4</th>\n",
       "      <td>7</td>\n",
       "      <td>599548cea78ff7</td>\n",
       "      <td>7b084d0a</td>\n",
       "      <td># DATA UNDESRTANDING\\n\\n#### Churn veri seti i...</td>\n",
       "      <td>ce055a99</td>\n",
       "      <td>0.0</td>\n",
       "    </tr>\n",
       "  </tbody>\n",
       "</table>\n",
       "</div>"
      ],
      "text/plain": [
       "  Unnamed: 0              id   cell_id  \\\n",
       "0          1  0944b58318b789  fced0b7a   \n",
       "1          3  59958672e3bf59  9b68df7e   \n",
       "2          4  b22e24942614c9  fa089df9   \n",
       "3          5  59959edc72f7c1  815f8d1f   \n",
       "4          7  599548cea78ff7  7b084d0a   \n",
       "\n",
       "                                              source ancestor_id  pct_rank  \n",
       "0  # Spectrogram-based CNN for the Tensorflow Spe...    0212b702       0.0  \n",
       "1  # A simple explanation and implementation of D...    8f0f9cda       0.0  \n",
       "2  Name: Aviral Jain | \\nRoll No: 18AG3AI08 | \\nB...    52b2390a       0.0  \n",
       "3  <img src=\"https://drive.google.com/uc?export=d...    2ba4272a       0.0  \n",
       "4  # DATA UNDESRTANDING\\n\\n#### Churn veri seti i...    ce055a99       0.0  "
      ]
     },
     "execution_count": 7,
     "metadata": {},
     "output_type": "execute_result"
    }
   ],
   "source": [
    "# read the file using config file\n",
    "file_type = config_data['file_type']\n",
    "source_file = \"./\" + config_data['file_name'] + f'.{file_type}'\n",
    "#print(\"\",source_file)\n",
    "df = pd.read_csv(source_file,config_data['inbound_delimiter'])\n",
    "df.head()"
   ]
  },
  {
   "cell_type": "code",
   "execution_count": 12,
   "id": "4800a463",
   "metadata": {},
   "outputs": [
    {
     "data": {
      "text/plain": [
       "Index(['unnamed_0', 'id', 'cell_id', 'source', 'ancestor_id', 'pct_rank'], dtype='object')"
      ]
     },
     "execution_count": 12,
     "metadata": {},
     "output_type": "execute_result"
    }
   ],
   "source": [
    "df.columns"
   ]
  },
  {
   "cell_type": "code",
   "execution_count": 13,
   "id": "0f9a9614",
   "metadata": {},
   "outputs": [],
   "source": [
    "df = df.rename(columns = {'unnamed_0': 'number'})"
   ]
  },
  {
   "cell_type": "code",
   "execution_count": 14,
   "id": "49cb387e",
   "metadata": {},
   "outputs": [
    {
     "name": "stdout",
     "output_type": "stream",
     "text": [
      "column name and column length validation passed\n"
     ]
    },
    {
     "data": {
      "text/plain": [
       "1"
      ]
     },
     "execution_count": 14,
     "metadata": {},
     "output_type": "execute_result"
    }
   ],
   "source": [
    "#validate the header of the file\n",
    "util.col_header_val(df,config_data)"
   ]
  },
  {
   "cell_type": "code",
   "execution_count": 15,
   "id": "fe97759a",
   "metadata": {},
   "outputs": [
    {
     "data": {
      "text/plain": [
       "Index(['number', 'id', 'cell_id', 'source', 'ancestor_id', 'pct_rank'], dtype='object')"
      ]
     },
     "execution_count": 15,
     "metadata": {},
     "output_type": "execute_result"
    }
   ],
   "source": [
    "df.columns"
   ]
  },
  {
   "cell_type": "code",
   "execution_count": 16,
   "id": "d5bdd85a",
   "metadata": {},
   "outputs": [
    {
     "name": "stdout",
     "output_type": "stream",
     "text": [
      "columns of files are: Index(['number', 'id', 'cell_id', 'source', 'ancestor_id', 'pct_rank'], dtype='object')\n",
      "columns of YAML are: ['number', 'id', 'cell_id', 'source', 'ancestor_id', 'pct_rank']\n"
     ]
    }
   ],
   "source": [
    "print(\"columns of files are:\" ,df.columns)\n",
    "print(\"columns of YAML are:\" ,config_data['columns'])"
   ]
  },
  {
   "cell_type": "code",
   "execution_count": null,
   "id": "8d8c689f",
   "metadata": {},
   "outputs": [],
   "source": []
  },
  {
   "cell_type": "code",
   "execution_count": null,
   "id": "f99d7e1f",
   "metadata": {},
   "outputs": [],
   "source": []
  }
 ],
 "metadata": {
  "kernelspec": {
   "display_name": "Python 3 (ipykernel)",
   "language": "python",
   "name": "python3"
  },
  "language_info": {
   "codemirror_mode": {
    "name": "ipython",
    "version": 3
   },
   "file_extension": ".py",
   "mimetype": "text/x-python",
   "name": "python",
   "nbconvert_exporter": "python",
   "pygments_lexer": "ipython3",
   "version": "3.9.13"
  }
 },
 "nbformat": 4,
 "nbformat_minor": 5
}
